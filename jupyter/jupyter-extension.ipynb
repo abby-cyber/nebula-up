{
 "cells": [
  {
   "cell_type": "markdown",
   "id": "115d8dbc-ffa8-42b3-b0c0-7d6c3e0a117d",
   "metadata": {},
   "source": [
    "## NebulaGraph Jupyter Extension"
   ]
  },
  {
   "cell_type": "code",
   "execution_count": 1,
   "id": "cc74ce66-7489-4e09-928c-2301eed5e56f",
   "metadata": {},
   "outputs": [],
   "source": [
    "# %pip install ipython-ngql\n",
    "\n",
    "# Load extension\n",
    "%load_ext ngql"
   ]
  },
  {
   "cell_type": "markdown",
   "id": "e3f3a464-b5ad-4c1e-961d-8ee156ffeb89",
   "metadata": {},
   "source": [
    "# Connect NebulaGraph"
   ]
  },
  {
   "cell_type": "code",
   "execution_count": 2,
   "id": "a071275d-06ea-459a-b101-785091b072cb",
   "metadata": {},
   "outputs": [
    {
     "name": "stdout",
     "output_type": "stream",
     "text": [
      "Connection Pool Created\n"
     ]
    },
    {
     "data": {
      "text/html": [
       "<div>\n",
       "<style scoped>\n",
       "    .dataframe tbody tr th:only-of-type {\n",
       "        vertical-align: middle;\n",
       "    }\n",
       "\n",
       "    .dataframe tbody tr th {\n",
       "        vertical-align: top;\n",
       "    }\n",
       "\n",
       "    .dataframe thead th {\n",
       "        text-align: right;\n",
       "    }\n",
       "</style>\n",
       "<table border=\"1\" class=\"dataframe\">\n",
       "  <thead>\n",
       "    <tr style=\"text-align: right;\">\n",
       "      <th></th>\n",
       "      <th>Name</th>\n",
       "    </tr>\n",
       "  </thead>\n",
       "  <tbody>\n",
       "    <tr>\n",
       "      <th>0</th>\n",
       "      <td>basketballplayer</td>\n",
       "    </tr>\n",
       "    <tr>\n",
       "      <th>1</th>\n",
       "      <td>demo_ai_ops</td>\n",
       "    </tr>\n",
       "    <tr>\n",
       "      <th>2</th>\n",
       "      <td>demo_basketballplayer</td>\n",
       "    </tr>\n",
       "    <tr>\n",
       "      <th>3</th>\n",
       "      <td>demo_data_lineage</td>\n",
       "    </tr>\n",
       "    <tr>\n",
       "      <th>4</th>\n",
       "      <td>demo_fifa_2022</td>\n",
       "    </tr>\n",
       "    <tr>\n",
       "      <th>5</th>\n",
       "      <td>demo_fraud_detection</td>\n",
       "    </tr>\n",
       "    <tr>\n",
       "      <th>6</th>\n",
       "      <td>demo_movie_recommendation</td>\n",
       "    </tr>\n",
       "    <tr>\n",
       "      <th>7</th>\n",
       "      <td>demo_sns</td>\n",
       "    </tr>\n",
       "    <tr>\n",
       "      <th>8</th>\n",
       "      <td>k8s</td>\n",
       "    </tr>\n",
       "  </tbody>\n",
       "</table>\n",
       "</div>"
      ],
      "text/plain": [
       "                        Name\n",
       "0           basketballplayer\n",
       "1                demo_ai_ops\n",
       "2      demo_basketballplayer\n",
       "3          demo_data_lineage\n",
       "4             demo_fifa_2022\n",
       "5       demo_fraud_detection\n",
       "6  demo_movie_recommendation\n",
       "7                   demo_sns\n",
       "8                        k8s"
      ]
     },
     "execution_count": 2,
     "metadata": {},
     "output_type": "execute_result"
    }
   ],
   "source": [
    "%ngql --address graphd --port 9669 --user root --password nebula"
   ]
  },
  {
   "cell_type": "markdown",
   "id": "868e139c-f0a6-4708-b932-8b4f95df9c0f",
   "metadata": {},
   "source": [
    "## Query with `%ngql`"
   ]
  },
  {
   "cell_type": "code",
   "execution_count": 3,
   "id": "ea8f08b0-87e1-4d73-98b0-aa49cfb72033",
   "metadata": {},
   "outputs": [
    {
     "data": {
      "text/html": [
       "<div>\n",
       "<style scoped>\n",
       "    .dataframe tbody tr th:only-of-type {\n",
       "        vertical-align: middle;\n",
       "    }\n",
       "\n",
       "    .dataframe tbody tr th {\n",
       "        vertical-align: top;\n",
       "    }\n",
       "\n",
       "    .dataframe thead th {\n",
       "        text-align: right;\n",
       "    }\n",
       "</style>\n",
       "<table border=\"1\" class=\"dataframe\">\n",
       "  <thead>\n",
       "    <tr style=\"text-align: right;\">\n",
       "      <th></th>\n",
       "      <th>Name</th>\n",
       "    </tr>\n",
       "  </thead>\n",
       "  <tbody>\n",
       "    <tr>\n",
       "      <th>0</th>\n",
       "      <td>Tony Parker</td>\n",
       "    </tr>\n",
       "    <tr>\n",
       "      <th>1</th>\n",
       "      <td>Manu Ginobili</td>\n",
       "    </tr>\n",
       "  </tbody>\n",
       "</table>\n",
       "</div>"
      ],
      "text/plain": [
       "            Name\n",
       "0    Tony Parker\n",
       "1  Manu Ginobili"
      ]
     },
     "execution_count": 3,
     "metadata": {},
     "output_type": "execute_result"
    }
   ],
   "source": [
    "%ngql USE basketballplayer;\n",
    "%ngql MATCH (v:player{name:\"Tim Duncan\"})-->(v2:player) RETURN v2.player.name AS Name;"
   ]
  },
  {
   "cell_type": "markdown",
   "id": "1b629ac0-f5cd-4ccb-8178-2159970faac8",
   "metadata": {},
   "source": [
    "## Query with `%%ngql` for multiline"
   ]
  },
  {
   "cell_type": "code",
   "execution_count": 4,
   "id": "edfad7e6-1abc-4ce4-8ae6-97a44df72e62",
   "metadata": {},
   "outputs": [
    {
     "data": {
      "text/html": [
       "<div>\n",
       "<style scoped>\n",
       "    .dataframe tbody tr th:only-of-type {\n",
       "        vertical-align: middle;\n",
       "    }\n",
       "\n",
       "    .dataframe tbody tr th {\n",
       "        vertical-align: top;\n",
       "    }\n",
       "\n",
       "    .dataframe thead th {\n",
       "        text-align: right;\n",
       "    }\n",
       "</style>\n",
       "<table border=\"1\" class=\"dataframe\">\n",
       "  <thead>\n",
       "    <tr style=\"text-align: right;\">\n",
       "      <th></th>\n",
       "      <th>FriendOf</th>\n",
       "      <th>Team</th>\n",
       "    </tr>\n",
       "  </thead>\n",
       "  <tbody>\n",
       "    <tr>\n",
       "      <th>0</th>\n",
       "      <td>LaMarcus Aldridge</td>\n",
       "      <td>Trail Blazers</td>\n",
       "    </tr>\n",
       "    <tr>\n",
       "      <th>1</th>\n",
       "      <td>LaMarcus Aldridge</td>\n",
       "      <td>Spurs</td>\n",
       "    </tr>\n",
       "    <tr>\n",
       "      <th>2</th>\n",
       "      <td>Marco Belinelli</td>\n",
       "      <td>Warriors</td>\n",
       "    </tr>\n",
       "  </tbody>\n",
       "</table>\n",
       "</div>"
      ],
      "text/plain": [
       "            FriendOf           Team\n",
       "0  LaMarcus Aldridge  Trail Blazers\n",
       "1  LaMarcus Aldridge          Spurs\n",
       "2    Marco Belinelli       Warriors"
      ]
     },
     "execution_count": 4,
     "metadata": {},
     "output_type": "execute_result"
    }
   ],
   "source": [
    "%%ngql\n",
    "MATCH (v)<-[e:follow]- (v2)-[e2:serve]->(v3)\n",
    "  WHERE id(v) == \"player100\"\n",
    "RETURN v2.player.name AS FriendOf, v3.team.name AS Team LIMIT 3;"
   ]
  },
  {
   "cell_type": "code",
   "execution_count": 5,
   "id": "f581373c-3a7a-4eff-820e-36e2bdfe02ba",
   "metadata": {},
   "outputs": [
    {
     "data": {
      "text/html": [
       "<div>\n",
       "<style scoped>\n",
       "    .dataframe tbody tr th:only-of-type {\n",
       "        vertical-align: middle;\n",
       "    }\n",
       "\n",
       "    .dataframe tbody tr th {\n",
       "        vertical-align: top;\n",
       "    }\n",
       "\n",
       "    .dataframe thead th {\n",
       "        text-align: right;\n",
       "    }\n",
       "</style>\n",
       "<table border=\"1\" class=\"dataframe\">\n",
       "  <thead>\n",
       "    <tr style=\"text-align: right;\">\n",
       "      <th></th>\n",
       "      <th>nodes</th>\n",
       "      <th>relationships</th>\n",
       "    </tr>\n",
       "  </thead>\n",
       "  <tbody>\n",
       "    <tr>\n",
       "      <th>0</th>\n",
       "      <td>[(\"player101\" :player{})]</td>\n",
       "      <td>[(\"player101\")-[:serve@0{}]-&gt;(\"team204\"), (\"pl...</td>\n",
       "    </tr>\n",
       "    <tr>\n",
       "      <th>1</th>\n",
       "      <td>[(\"team215\" :team{}), (\"player113\" :player{}),...</td>\n",
       "      <td>[(\"player111\")-[:serve@0{}]-&gt;(\"team215\"), (\"pl...</td>\n",
       "    </tr>\n",
       "    <tr>\n",
       "      <th>2</th>\n",
       "      <td>[(\"player146\" :player{}), (\"team206\" :team{}),...</td>\n",
       "      <td>[(\"player146\")-[:serve@0{}]-&gt;(\"team222\"), (\"pl...</td>\n",
       "    </tr>\n",
       "  </tbody>\n",
       "</table>\n",
       "</div>"
      ],
      "text/plain": [
       "                                               nodes   \n",
       "0                          [(\"player101\" :player{})]  \\\n",
       "1  [(\"team215\" :team{}), (\"player113\" :player{}),...   \n",
       "2  [(\"player146\" :player{}), (\"team206\" :team{}),...   \n",
       "\n",
       "                                       relationships  \n",
       "0  [(\"player101\")-[:serve@0{}]->(\"team204\"), (\"pl...  \n",
       "1  [(\"player111\")-[:serve@0{}]->(\"team215\"), (\"pl...  \n",
       "2  [(\"player146\")-[:serve@0{}]->(\"team222\"), (\"pl...  "
      ]
     },
     "execution_count": 5,
     "metadata": {},
     "output_type": "execute_result"
    }
   ],
   "source": [
    "%ngql GET SUBGRAPH 2 STEPS FROM \"player101\" YIELD VERTICES AS nodes, EDGES AS relationships;"
   ]
  },
  {
   "cell_type": "markdown",
   "id": "4f853c95-d850-4820-9772-de893f8ab722",
   "metadata": {},
   "source": [
    "## Draw the result"
   ]
  },
  {
   "cell_type": "code",
   "execution_count": 6,
   "id": "5f72b7b7-b757-4c80-80c6-259b41ff1c17",
   "metadata": {},
   "outputs": [
    {
     "name": "stdout",
     "output_type": "stream",
     "text": [
      "nebulagraph_draw.html\n"
     ]
    },
    {
     "data": {
      "text/html": [
       "\n",
       "        <iframe\n",
       "            width=\"100%\"\n",
       "            height=\"500px\"\n",
       "            src=\"nebulagraph_draw.html\"\n",
       "            frameborder=\"0\"\n",
       "            allowfullscreen\n",
       "            \n",
       "        ></iframe>\n",
       "        "
      ],
      "text/plain": [
       "<IPython.lib.display.IFrame at 0xffff7eadf1f0>"
      ]
     },
     "execution_count": 6,
     "metadata": {},
     "output_type": "execute_result"
    }
   ],
   "source": [
    "%ng_draw"
   ]
  },
  {
   "cell_type": "markdown",
   "id": "b2e33e4b-251a-4412-bb45-ba63a32825f3",
   "metadata": {},
   "source": [
    "# What's Next\n",
    "\n",
    "> check more from https://github.com/wey-gu/ipython-ngql or run\n",
    "\n",
    "```python\n",
    "%ngql help\n",
    "```"
   ]
  }
 ],
 "metadata": {
  "kernelspec": {
   "display_name": "Python 3 (ipykernel)",
   "language": "python",
   "name": "python3"
  },
  "language_info": {
   "codemirror_mode": {
    "name": "ipython",
    "version": 3
   },
   "file_extension": ".py",
   "mimetype": "text/x-python",
   "name": "python",
   "nbconvert_exporter": "python",
   "pygments_lexer": "ipython3",
   "version": "3.9.13"
  }
 },
 "nbformat": 4,
 "nbformat_minor": 5
}
