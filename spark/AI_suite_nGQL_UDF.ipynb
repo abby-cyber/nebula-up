{
 "cells": [
  {
   "attachments": {},
   "cell_type": "markdown",
   "id": "859d09a7",
   "metadata": {},
   "source": [
    "## Run the ngai-api gateway"
   ]
  },
  {
   "cell_type": "code",
   "execution_count": null,
   "id": "c50d9eb3",
   "metadata": {},
   "outputs": [],
   "source": [
    "from ng_ai import ng_ai_api_app as app\n",
    "\n",
    "app.run(port=9999, host='0.0.0.0')"
   ]
  },
  {
   "attachments": {},
   "cell_type": "markdown",
   "id": "1813919e",
   "metadata": {},
   "source": [
    "## Connect to ngai_graphd\n",
    "\n",
    "- From NebulaGraph **Studio**:\n",
    "\n",
    "Host: `ngai_graphd`, Port: `9669`\n",
    "\n",
    "- In container network, with console:\n",
    "\n",
    "```bash\n",
    "nebula-console -u user -p password -addr ngai_graphd -port 9669\n",
    "```\n",
    "\n",
    "- Or connect from the host(outside the container network):\n",
    "\n",
    "```bash\n",
    "nebula-console -u user -p password -addr 127.0.0.1 -port 29669\n",
    "```"
   ]
  },
  {
   "attachments": {},
   "cell_type": "markdown",
   "id": "48824a15",
   "metadata": {},
   "source": [
    "### Call ngai API\n",
    "\n",
    "It's either a cURL call or a UDF query from ngai-graphd.\n",
    "\n",
    "#### Query from ngai-graphd\n",
    "\n",
    "```cypher\n",
    "-- Prepare the write schema\n",
    "USE demo_basketballplayer;\n",
    "CREATE TAG IF NOT EXISTS pagerank(pagerank string);\n",
    ":sleep 20;\n",
    "-- Call with ng_ai()\n",
    "RETURN ng_ai(\"pagerank\", [\"follow\"], [\"degree\"], \"spark\", {space: \"demo_basketballplayer\", max_iter: 10}, {write_mode: \"insert\"})\n",
    "```\n",
    "\n",
    "Where the parameters are:\n",
    "\n",
    "- `algo_name`: the name of the algorithm, e.g. `pagerank`\n",
    "- `edge_types`: the edge types to be used in the algorithm, e.g. `[\"follow\"]`\n",
    "- `edge_weights`: the edge weights to be used in the algorithm, e.g. `[\"degree\"]`\n",
    "- `mode`: the mode(engine) to be used in the algorithm, e.g. `spark`, `networkx`\n",
    "- `algo_context`: the context to be used in the algorithm, e.g. `{space: \"basketballplayer\", max_iter: 10}`\n",
    "\n",
    "#### Call with cURL\n",
    "\n",
    "```bash\n",
    "curl -X POST \\\n",
    "     -H \"Content-Type: application/json\" \\\n",
    "     -d '{\n",
    "          \"write_context\": {\n",
    "              \"write_mode\": \"insert\"\n",
    "          },\n",
    "          \"read_context\": {\n",
    "              \"edge_types\": [\"follow\"],\n",
    "              \"read_mode\": \"scan\",\n",
    "              \"edge_weights\": [\"degree\"]\n",
    "          },\n",
    "          \"algo_context\": {\n",
    "              \"name\": \"pagerank\",\n",
    "              \"space\": \"basketballplayer\"\n",
    "          }\n",
    "     }' \\\n",
    "     http://jupyter:9999/api/v0/spark/pagerank\n",
    "```"
   ]
  },
  {
   "attachments": {},
   "cell_type": "markdown",
   "id": "0aa9d583",
   "metadata": {},
   "source": [
    "## Info on the ng_ai UDF result\n",
    "\n",
    "We could get the info from the result like:\n",
    "\n",
    "```cypher\n",
    "WITH ngdi(\"pagerank\", [\"follow\"], [\"degree\"], \"spark\",\n",
    "    {space: \"demo_basketballplayer\", max_iter: 10},\n",
    "    {write_mode: \"insert\"}) AS r\n",
    "UNWIND [key in keys(r) | {key: key, value: r[key]}] AS row\n",
    "RETURN row.key, row.value\n",
    "```"
   ]
  },
  {
   "attachments": {},
   "cell_type": "markdown",
   "id": "cc35178c",
   "metadata": {},
   "source": [
    "## Check algo result\n",
    "\n",
    "```cypher\n",
    "MATCH (n:pagerank)\n",
    "    WITH n.pagerank.pagerank AS pr, n.player.name AS n\n",
    "    LIMIT 100\n",
    "RETURN pr, n ORDER BY pr DESC\n",
    "```"
   ]
  }
 ],
 "metadata": {
  "kernelspec": {
   "display_name": "Python 3 (ipykernel)",
   "language": "python",
   "name": "python3"
  },
  "language_info": {
   "codemirror_mode": {
    "name": "ipython",
    "version": 3
   },
   "file_extension": ".py",
   "mimetype": "text/x-python",
   "name": "python",
   "nbconvert_exporter": "python",
   "pygments_lexer": "ipython3",
   "version": "3.7.10"
  }
 },
 "nbformat": 4,
 "nbformat_minor": 5
}
