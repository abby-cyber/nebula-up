{
 "cells": [
  {
   "attachments": {},
   "cell_type": "markdown",
   "id": "859d09a7",
   "metadata": {},
   "source": [
    "## Run the ngdi-api gateway"
   ]
  },
  {
   "cell_type": "code",
   "execution_count": null,
   "id": "c50d9eb3",
   "metadata": {},
   "outputs": [],
   "source": [
    "from ngdi import ngdi_api_app as app\n",
    "\n",
    "app.run(port=9999, host='0.0.0.0')"
   ]
  },
  {
   "attachments": {},
   "cell_type": "markdown",
   "id": "1813919e",
   "metadata": {},
   "source": [
    "Then,"
   ]
  }
 ],
 "metadata": {
  "kernelspec": {
   "display_name": "Python 3 (ipykernel)",
   "language": "python",
   "name": "python3"
  },
  "language_info": {
   "codemirror_mode": {
    "name": "ipython",
    "version": 3
   },
   "file_extension": ".py",
   "mimetype": "text/x-python",
   "name": "python",
   "nbconvert_exporter": "python",
   "pygments_lexer": "ipython3",
   "version": "3.7.10"
  }
 },
 "nbformat": 4,
 "nbformat_minor": 5
}
